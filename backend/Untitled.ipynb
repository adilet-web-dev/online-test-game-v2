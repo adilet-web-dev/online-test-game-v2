{
 "cells": [
  {
   "cell_type": "code",
   "execution_count": 7,
   "id": "1779a6c7",
   "metadata": {},
   "outputs": [
    {
     "name": "stdout",
     "output_type": "stream",
     "text": [
      "True\n"
     ]
    }
   ],
   "source": [
    "from cubes.api.serializers import TestSerializer\n",
    "import json\n",
    "\n",
    "payload = {\n",
    "\t\t\t'name': 'test name',\n",
    "\t\t\t'questions': [\n",
    "\t\t\t\t{\n",
    "\t\t\t\t\t'title': 'some test title',\n",
    "\t\t\t\t\t'options': [\n",
    "\t\t\t\t\t\t{'answer': 'option1', 'is_true': True},\n",
    "\t\t\t\t\t\t{'answer': 'option2', 'is_true': False},\n",
    "\t\t\t\t\t\t{'answer': 'option3', 'is_true': False},\n",
    "\t\t\t\t\t\t{'answer': 'option4', 'is_true': False}\n",
    "\t\t\t\t\t]\n",
    "\t\t\t\t}\n",
    "\t\t\t]\n",
    "\t\t}\n",
    "\n",
    "ser = TestSerializer(data=payload)\n",
    "print(ser.is_valid(raise_exception=True))\n",
    "ser.save"
   ]
  },
  {
   "cell_type": "code",
   "execution_count": null,
   "id": "c5126733",
   "metadata": {},
   "outputs": [],
   "source": []
  }
 ],
 "metadata": {
  "kernelspec": {
   "display_name": "Django Shell-Plus",
   "language": "python",
   "name": "django_extensions"
  },
  "language_info": {
   "codemirror_mode": {
    "name": "ipython",
    "version": 3
   },
   "file_extension": ".py",
   "mimetype": "text/x-python",
   "name": "python",
   "nbconvert_exporter": "python",
   "pygments_lexer": "ipython3",
   "version": "3.9.1"
  }
 },
 "nbformat": 4,
 "nbformat_minor": 5
}
